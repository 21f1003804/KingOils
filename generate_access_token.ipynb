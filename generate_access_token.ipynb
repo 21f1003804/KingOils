{
 "cells": [
  {
   "cell_type": "code",
   "execution_count": 1,
   "id": "5f83c46f",
   "metadata": {},
   "outputs": [
    {
     "name": "stdout",
     "output_type": "stream",
     "text": [
      "API Key: 3cjan03ksbhpkvdi\n",
      "API Secret: 9iewjt8dhbecxx7muzeqjehyngh2vrva\n",
      "Login URL: https://kite.zerodha.com/connect/login?api_key=3cjan03ksbhpkvdi&v=3\n"
     ]
    }
   ],
   "source": [
    "import pandas as pd\n",
    "\n",
    "import logging\n",
    "\n",
    "import numpy as np\n",
    "from kiteconnect import KiteConnect, KiteTicker\n",
    "\n",
    "# Initialize logging\n",
    "logging.basicConfig(level=logging.DEBUG)\n",
    "\n",
    "from config import *\n",
    "print(\"API Key:\", api_key)\n",
    "print(\"API Secret:\", api_secret)\n",
    "print(\"Login URL:\", login_url)\n",
    "\n",
    "\n",
    "api_key = api_key\n",
    "api_secret = api_secret"
   ]
  },
  {
   "cell_type": "code",
   "execution_count": 2,
   "id": "bb629590",
   "metadata": {},
   "outputs": [],
   "source": [
    "request_token = \"G9UHdVVE3kcLA4eixwC5SJqXHj5vznzL\""
   ]
  },
  {
   "cell_type": "code",
   "execution_count": 3,
   "id": "97189979",
   "metadata": {},
   "outputs": [
    {
     "name": "stderr",
     "output_type": "stream",
     "text": [
      "DEBUG:urllib3.connectionpool:Starting new HTTPS connection (1): api.kite.trade:443\n",
      "DEBUG:urllib3.connectionpool:https://api.kite.trade:443 \"POST /session/token HTTP/11\" 200 None\n"
     ]
    },
    {
     "name": "stdout",
     "output_type": "stream",
     "text": [
      "Access Token: 5CtALk9NGRAoFZtzcKx771a9b3t6esFv\n"
     ]
    }
   ],
   "source": [
    "kite = KiteConnect(api_key=api_key)\n",
    "data = kite.generate_session(request_token, api_secret=api_secret)\n",
    "access_token = data[\"access_token\"]\n",
    "print(\"Access Token:\", access_token)"
   ]
  },
  {
   "cell_type": "code",
   "execution_count": null,
   "id": "d1f13c45",
   "metadata": {},
   "outputs": [],
   "source": [
    "#paste access token in config"
   ]
  }
 ],
 "metadata": {
  "kernelspec": {
   "display_name": "base",
   "language": "python",
   "name": "python3"
  },
  "language_info": {
   "codemirror_mode": {
    "name": "ipython",
    "version": 3
   },
   "file_extension": ".py",
   "mimetype": "text/x-python",
   "name": "python",
   "nbconvert_exporter": "python",
   "pygments_lexer": "ipython3",
   "version": "3.12.7"
  }
 },
 "nbformat": 4,
 "nbformat_minor": 5
}
