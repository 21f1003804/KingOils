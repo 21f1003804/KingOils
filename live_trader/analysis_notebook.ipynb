{
 "cells": [
  {
   "cell_type": "code",
   "execution_count": null,
   "id": "ab0fef34",
   "metadata": {},
   "outputs": [],
   "source": [
    "# Jupyter Notebook\n",
    "from multiprocessing.managers import BaseManager\n",
    "import pandas as pd\n",
    "\n",
    "# Connection setup\n",
    "class InstrumentManager(BaseManager): pass\n",
    "InstrumentManager.register('get_instrument_data')\n",
    "\n",
    "m = InstrumentManager(\n",
    "    address=('localhost', 6000),\n",
    "    authkey=b'your_secret_key'\n",
    ")\n",
    "m.connect()\n",
    "\n",
    "# Access shared data\n",
    "shared_data = m.get_instrument_data()\n",
    "\n",
    "# Helper function to reconstruct data\n",
    "def get_instrument(token):\n",
    "    data = dict(shared_data[token])\n",
    "    if 'intraday' in data:\n",
    "        data['intraday'] = pd.DataFrame(data['intraday'])\n",
    "    return data\n",
    "\n",
    "# Example usage\n",
    "token = 14606594  # Your instrument token\n",
    "data = get_instrument(token)\n",
    "print(f\"Position for {data['symbol']}: {data['position']}\")\n",
    "data['intraday'].tail()  # View latest prices\n"
   ]
  },
  {
   "cell_type": "code",
   "execution_count": null,
   "id": "11ba19e6",
   "metadata": {},
   "outputs": [],
   "source": [
    "# In notebook\n",
    "print(\"Available tokens:\", list(shared_data.keys()))\n",
    "\n",
    "# Monitor real-time updates\n",
    "import time\n",
    "from IPython.display import clear_output\n",
    "\n",
    "while True:\n",
    "    clear_output(wait=True)\n",
    "    for token in list(shared_data.keys())[:5]:  # First 5 tokens\n",
    "        data = get_instrument(token)\n",
    "        print(f\"{data['symbol']}: Pos={data['position']} | Price={data.get('last_price', 'N/A')}\")\n",
    "    time.sleep(10)\n"
   ]
  },
  {
   "cell_type": "code",
   "execution_count": null,
   "id": "4255ec04",
   "metadata": {},
   "outputs": [
    {
     "ename": "KeyError",
     "evalue": "114131463",
     "output_type": "error",
     "traceback": [
      "\u001b[1;31m---------------------------------------------------------------------------\u001b[0m",
      "\u001b[1;31mKeyError\u001b[0m                                  Traceback (most recent call last)",
      "Cell \u001b[1;32mIn[7], line 2\u001b[0m\n\u001b[0;32m      1\u001b[0m token \u001b[38;5;241m=\u001b[39m \u001b[38;5;241m114131463\u001b[39m  \u001b[38;5;66;03m# Replace with actual token\u001b[39;00m\n\u001b[1;32m----> 2\u001b[0m \u001b[38;5;28mprint\u001b[39m(\u001b[38;5;124mf\u001b[39m\u001b[38;5;124m\"\u001b[39m\u001b[38;5;124mSymbol: \u001b[39m\u001b[38;5;132;01m{\u001b[39;00minstrument_data[token][\u001b[38;5;124m'\u001b[39m\u001b[38;5;124msymbol\u001b[39m\u001b[38;5;124m'\u001b[39m]\u001b[38;5;132;01m}\u001b[39;00m\u001b[38;5;124m\"\u001b[39m)\n\u001b[0;32m      3\u001b[0m \u001b[38;5;28mprint\u001b[39m(\u001b[38;5;124mf\u001b[39m\u001b[38;5;124m\"\u001b[39m\u001b[38;5;124mPosition: \u001b[39m\u001b[38;5;132;01m{\u001b[39;00minstrument_data[token][\u001b[38;5;124m'\u001b[39m\u001b[38;5;124mposition\u001b[39m\u001b[38;5;124m'\u001b[39m]\u001b[38;5;132;01m}\u001b[39;00m\u001b[38;5;124m\"\u001b[39m)\n\u001b[0;32m      4\u001b[0m \u001b[38;5;28mprint\u001b[39m(\u001b[38;5;124mf\u001b[39m\u001b[38;5;124m\"\u001b[39m\u001b[38;5;124mLatest intraday data:\u001b[39m\u001b[38;5;130;01m\\n\u001b[39;00m\u001b[38;5;132;01m{\u001b[39;00minstrument_data[token][\u001b[38;5;124m'\u001b[39m\u001b[38;5;124mintraday\u001b[39m\u001b[38;5;124m'\u001b[39m]\u001b[38;5;241m.\u001b[39mtail(\u001b[38;5;241m3\u001b[39m)\u001b[38;5;132;01m}\u001b[39;00m\u001b[38;5;124m\"\u001b[39m)\n",
      "\u001b[1;31mKeyError\u001b[0m: 114131463"
     ]
    }
   ],
   "source": [
    "from multiprocessing.managers import BaseManager\n",
    "\n",
    "class InstrumentManager(BaseManager): \n",
    "    pass\n",
    "\n",
    "InstrumentManager.register('get_instrument_data')\n",
    "m = InstrumentManager(address=('localhost', 6000), authkey=b'your_secret_key')\n",
    "m.connect()\n",
    "\n",
    "# Access shared data\n",
    "shared_data = m.get_instrument_data()\n"
   ]
  },
  {
   "cell_type": "code",
   "execution_count": null,
   "id": "d2b77fe7",
   "metadata": {},
   "outputs": [],
   "source": []
  }
 ],
 "metadata": {
  "kernelspec": {
   "display_name": "base",
   "language": "python",
   "name": "python3"
  },
  "language_info": {
   "codemirror_mode": {
    "name": "ipython",
    "version": 3
   },
   "file_extension": ".py",
   "mimetype": "text/x-python",
   "name": "python",
   "nbconvert_exporter": "python",
   "pygments_lexer": "ipython3",
   "version": "3.12.7"
  }
 },
 "nbformat": 4,
 "nbformat_minor": 5
}
